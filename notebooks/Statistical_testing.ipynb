{
 "cells": [
  {
   "cell_type": "code",
   "execution_count": 2,
   "id": "b47ff8df-e7eb-4905-820f-e107320cf2e4",
   "metadata": {},
   "outputs": [],
   "source": [
    "import warnings\n",
    "warnings.filterwarnings(\"ignore\")"
   ]
  },
  {
   "cell_type": "code",
   "execution_count": 3,
   "id": "97637844-a365-4e9d-b566-9e3a4b409487",
   "metadata": {},
   "outputs": [],
   "source": [
    "import pandas as pd\n",
    "import numpy as np\n",
    "from scipy import stats\n",
    "import matplotlib.pyplot as plt\n",
    "import seaborn as sns\n",
    "\n",
    "df = pd.read_csv(\"../data/insurance.csv\")"
   ]
  },
  {
   "cell_type": "code",
   "execution_count": 4,
   "id": "cf3ca255-f57d-4921-959c-b96eb34e74c6",
   "metadata": {},
   "outputs": [],
   "source": [
    "df['HasClaim'] = (df['TotalClaims'] > 0).astype(int)\n",
    "df['Margin'] = df['TotalPremium'] - df['TotalClaims']\n",
    "df['ClaimSeverity'] = df['TotalClaims'].where(df['HasClaim'] == 1, np.nan)"
   ]
  },
  {
   "cell_type": "code",
   "execution_count": 6,
   "id": "4550b588-5a36-4271-9718-81eb33b6928f",
   "metadata": {},
   "outputs": [],
   "source": [
    "# Segmentation and Hypothesis Testing\n",
    "\n",
    "# H₀ #1: Risk difference across provinces (Chi-Square)\n",
    "contingency_prov = pd.crosstab(df['Province'], df['HasClaim'])\n",
    "chi2_1, p_1, _, _ = stats.chi2_contingency(contingency_prov)\n",
    "\n",
    "# H₀ #2: Risk difference across ZIPs (Chi-Square)\n",
    "top_zips = df['PostalCode'].value_counts().nlargest(5).index\n",
    "df_zips = df[df['PostalCode'].isin(top_zips)]\n",
    "contingency_zip = pd.crosstab(df_zips['PostalCode'], df_zips['HasClaim'])\n",
    "chi2_2, p_2, _, _ = stats.chi2_contingency(contingency_zip)\n",
    "\n",
    "# H₀ #3: Margin difference across ZIPs (ANOVA)\n",
    "groups_margin = [grp['Margin'].dropna() for _, grp in df_zips.groupby('PostalCode')]\n",
    "f_3, p_3 = stats.f_oneway(*groups_margin)\n",
    "\n",
    "# H₀ #4: Risk difference by Gender (Chi-Square)\n",
    "contingency_gender = pd.crosstab(df['Gender'], df['HasClaim'])\n",
    "chi2_4, p_4, _, _ = stats.chi2_contingency(contingency_gender)"
   ]
  },
  {
   "cell_type": "code",
   "execution_count": 11,
   "id": "4fda41e7-02a4-41c0-b612-c7ccc396f4c8",
   "metadata": {},
   "outputs": [
    {
     "name": "stdout",
     "output_type": "stream",
     "text": [
      "H₀ #1: No risk difference across provinces: Reject H₀ (p = 0.0000)\n",
      "H₀ #2: No risk difference across zip codes: Reject H₀ (p = 0.0000)\n",
      "H₀ #3: No margin difference across zip codes: Reject H₀ (p = 0.0469)\n",
      "H₀ #4: No risk difference between genders: Reject H₀ (p = 0.0001)\n"
     ]
    }
   ],
   "source": [
    "def interpret(name, p_value):\n",
    "    decision = \"Reject H₀\" if p_value < 0.05 else \"Fail to reject H₀\"\n",
    "    return f\"{name}: {decision} (p = {p_value:.4f})\"\n",
    "\n",
    "results = [\n",
    "    interpret(\"H₀ #1: No risk difference across provinces\", p_1),\n",
    "    interpret(\"H₀ #2: No risk difference across zip codes\", p_2),\n",
    "    interpret(\"H₀ #3: No margin difference across zip codes\", p_3),\n",
    "    interpret(\"H₀ #4: No risk difference between genders\", p_4),\n",
    "]\n",
    "\n",
    "print(\"\\n\".join(results))"
   ]
  },
  {
   "cell_type": "code",
   "execution_count": null,
   "id": "9a403b2d-b14d-44ad-b660-64674f47ad5b",
   "metadata": {},
   "outputs": [],
   "source": []
  },
  {
   "cell_type": "code",
   "execution_count": null,
   "id": "83a779f3-5045-4df2-93ec-6182531cbf51",
   "metadata": {},
   "outputs": [],
   "source": []
  },
  {
   "cell_type": "code",
   "execution_count": null,
   "id": "6473d5f6-5ec7-4b8e-9791-bd795d03dedc",
   "metadata": {},
   "outputs": [],
   "source": []
  },
  {
   "cell_type": "code",
   "execution_count": null,
   "id": "01824c75-1685-4ace-a585-ab04f7175914",
   "metadata": {},
   "outputs": [],
   "source": []
  },
  {
   "cell_type": "code",
   "execution_count": null,
   "id": "3a1f6fd7-d083-4d37-9c3c-94fbcfaa87fd",
   "metadata": {},
   "outputs": [],
   "source": []
  }
 ],
 "metadata": {
  "kernelspec": {
   "display_name": "Python 3 (ipykernel)",
   "language": "python",
   "name": "python3"
  },
  "language_info": {
   "codemirror_mode": {
    "name": "ipython",
    "version": 3
   },
   "file_extension": ".py",
   "mimetype": "text/x-python",
   "name": "python",
   "nbconvert_exporter": "python",
   "pygments_lexer": "ipython3",
   "version": "3.12.3"
  }
 },
 "nbformat": 4,
 "nbformat_minor": 5
}
